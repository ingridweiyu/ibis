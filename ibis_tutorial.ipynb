{
  "cells": [
    {
      "cell_type": "markdown",
      "source": [
        "In this notebook, we introduce Ibis, a Python framework to access data and perform data analysis task from different sources. Basically, it allows users to perform SQL operations (select, join, filter, etc.) with Python syntax without loading data into memory. Here we perform data analysis using Ibis on nyc restuarant data as a tutorial and we use sqlite as an example back end engine.\n",
        "\n",
        "Ibis official website: https://ibis-project.org/docs/3.2.0/#sql\n",
        "\n",
        "Ibis introduction: https://github.com/w4111/w4111.github.io/wiki/Ibis-for-data-analysis"
      ],
      "metadata": {
        "id": "RCfjXEKZIj92"
      },
      "id": "RCfjXEKZIj92"
    },
    {
      "cell_type": "code",
      "source": [
        "!pip install ibis-framework \n",
        "!pip install 'ibis-framework[sqlite]'"
      ],
      "metadata": {
        "id": "4Br0heeLIubu"
      },
      "id": "4Br0heeLIubu",
      "execution_count": null,
      "outputs": []
    },
    {
      "cell_type": "code",
      "source": [
        "from google.colab import drive\n",
        "drive.mount('/content/drive')"
      ],
      "metadata": {
        "colab": {
          "base_uri": "https://localhost:8080/"
        },
        "id": "GqMogTs0Mauj",
        "outputId": "9d879e75-547e-49c1-adcf-cfcb747216ea"
      },
      "id": "GqMogTs0Mauj",
      "execution_count": 2,
      "outputs": [
        {
          "output_type": "stream",
          "name": "stdout",
          "text": [
            "Drive already mounted at /content/drive; to attempt to forcibly remount, call drive.mount(\"/content/drive\", force_remount=True).\n"
          ]
        }
      ]
    },
    {
      "cell_type": "code",
      "source": [
        "import sqlite3\n",
        "import ibis\n",
        "import os"
      ],
      "metadata": {
        "id": "1AFh6Y7oIpyX"
      },
      "id": "1AFh6Y7oIpyX",
      "execution_count": 3,
      "outputs": []
    },
    {
      "cell_type": "markdown",
      "source": [
        "## 1. Connect to SQLite database"
      ],
      "metadata": {
        "id": "cPrEC6zHI6u4"
      },
      "id": "cPrEC6zHI6u4"
    },
    {
      "cell_type": "code",
      "execution_count": 4,
      "id": "0e5ab0aa",
      "metadata": {
        "id": "0e5ab0aa"
      },
      "outputs": [],
      "source": [
        "# change the path to where club.db locates in drive folder\n",
        "path = \"/content/drive/MyDrive/Colab Notebooks/database/ibis/club.db\"\n",
        "\n",
        "ibis.options.interactive = True\n",
        "db = ibis.sqlite.connect(path)"
      ]
    },
    {
      "cell_type": "code",
      "execution_count": 5,
      "id": "df53fd3c",
      "metadata": {
        "colab": {
          "base_uri": "https://localhost:8080/"
        },
        "id": "df53fd3c",
        "outputId": "6d2a9575-712f-4ab6-e05f-0be81043cc73"
      },
      "outputs": [
        {
          "output_type": "stream",
          "name": "stdout",
          "text": [
            "['attends', 'budgets', 'events', 'expenses', 'fees', 'has', 'incurs', 'majors', 'members', 'pays', 'supports', 'zipcodes']\n"
          ]
        }
      ],
      "source": [
        "sql_tables = db.list_tables()\n",
        "print(sql_tables)"
      ]
    },
    {
      "cell_type": "code",
      "execution_count": 6,
      "id": "92ecd350",
      "metadata": {
        "colab": {
          "base_uri": "https://localhost:8080/"
        },
        "id": "92ecd350",
        "outputId": "7836e934-b568-4510-c546-f71a71228aba"
      },
      "outputs": [
        {
          "output_type": "stream",
          "name": "stdout",
          "text": [
            "columns in attends: ['member_id', 'event_id']\n",
            "columns in budgets: ['budget_id', 'category', 'spent', 'remaining', 'amount', 'event_status']\n",
            "columns in events: ['event_id', 'name', 'date', 'type', 'notes', 'location', 'status']\n",
            "columns in expenses: ['expense_id', 'budget_id', 'description', 'date', 'cost']\n",
            "columns in fees: ['fee_id', 'date', 'amount', 'source', 'notes']\n",
            "columns in has: ['event_id', 'budget_id']\n",
            "columns in incurs: ['member_id', 'expense_id']\n",
            "columns in majors: ['major_id', 'name', 'department', 'college']\n",
            "columns in members: ['member_id', 'major_id', 'zipcode', 'firstname', 'lastname', 'email', 'position', 'tshirt_size', 'phone_number']\n",
            "columns in pays: ['member_id', 'fee_id']\n",
            "columns in supports: ['fee_id', 'budget_id']\n",
            "columns in zipcodes: ['zipcode', 'type', 'city', 'county', 'state', 'short_state']\n"
          ]
        }
      ],
      "source": [
        "for each in sql_tables:\n",
        "    print(f\"columns in {each}: {db.table(each).columns}\")"
      ]
    },
    {
      "cell_type": "markdown",
      "source": [
        "## 2. Basic query with ibis"
      ],
      "metadata": {
        "id": "TDYwILs5j_r9"
      },
      "id": "TDYwILs5j_r9"
    },
    {
      "cell_type": "markdown",
      "source": [
        "Select operation"
      ],
      "metadata": {
        "id": "aRUpftL0mXUp"
      },
      "id": "aRUpftL0mXUp"
    },
    {
      "cell_type": "code",
      "execution_count": 7,
      "id": "6c2c7d11",
      "metadata": {
        "colab": {
          "base_uri": "https://localhost:8080/",
          "height": 394
        },
        "id": "6c2c7d11",
        "outputId": "a213c592-d66e-4fee-9898-2d832c45e46d"
      },
      "outputs": [
        {
          "output_type": "execute_result",
          "data": {
            "text/plain": [
              "   firstname  lastname\n",
              "0     Angela   Sanders\n",
              "1      Grant   Gilmour\n",
              "2      Luisa     Guidi\n",
              "3      Randy   Woodard\n",
              "4      Sacha  Harrison\n",
              "5      Carlo    Jacobs\n",
              "6    Phillip    Cullen\n",
              "7      Emily   Jaquith\n",
              "8      Tyler    Hewitt\n",
              "9      Keith    Dunlop\n",
              "10      Yuyi      Tang"
            ],
            "text/html": [
              "<div>\n",
              "<style scoped>\n",
              "    .dataframe tbody tr th:only-of-type {\n",
              "        vertical-align: middle;\n",
              "    }\n",
              "\n",
              "    .dataframe tbody tr th {\n",
              "        vertical-align: top;\n",
              "    }\n",
              "\n",
              "    .dataframe thead th {\n",
              "        text-align: right;\n",
              "    }\n",
              "</style>\n",
              "<table border=\"1\" class=\"dataframe\">\n",
              "  <thead>\n",
              "    <tr style=\"text-align: right;\">\n",
              "      <th></th>\n",
              "      <th>firstname</th>\n",
              "      <th>lastname</th>\n",
              "    </tr>\n",
              "  </thead>\n",
              "  <tbody>\n",
              "    <tr>\n",
              "      <th>0</th>\n",
              "      <td>Angela</td>\n",
              "      <td>Sanders</td>\n",
              "    </tr>\n",
              "    <tr>\n",
              "      <th>1</th>\n",
              "      <td>Grant</td>\n",
              "      <td>Gilmour</td>\n",
              "    </tr>\n",
              "    <tr>\n",
              "      <th>2</th>\n",
              "      <td>Luisa</td>\n",
              "      <td>Guidi</td>\n",
              "    </tr>\n",
              "    <tr>\n",
              "      <th>3</th>\n",
              "      <td>Randy</td>\n",
              "      <td>Woodard</td>\n",
              "    </tr>\n",
              "    <tr>\n",
              "      <th>4</th>\n",
              "      <td>Sacha</td>\n",
              "      <td>Harrison</td>\n",
              "    </tr>\n",
              "    <tr>\n",
              "      <th>5</th>\n",
              "      <td>Carlo</td>\n",
              "      <td>Jacobs</td>\n",
              "    </tr>\n",
              "    <tr>\n",
              "      <th>6</th>\n",
              "      <td>Phillip</td>\n",
              "      <td>Cullen</td>\n",
              "    </tr>\n",
              "    <tr>\n",
              "      <th>7</th>\n",
              "      <td>Emily</td>\n",
              "      <td>Jaquith</td>\n",
              "    </tr>\n",
              "    <tr>\n",
              "      <th>8</th>\n",
              "      <td>Tyler</td>\n",
              "      <td>Hewitt</td>\n",
              "    </tr>\n",
              "    <tr>\n",
              "      <th>9</th>\n",
              "      <td>Keith</td>\n",
              "      <td>Dunlop</td>\n",
              "    </tr>\n",
              "    <tr>\n",
              "      <th>10</th>\n",
              "      <td>Yuyi</td>\n",
              "      <td>Tang</td>\n",
              "    </tr>\n",
              "  </tbody>\n",
              "</table>\n",
              "</div>"
            ]
          },
          "metadata": {},
          "execution_count": 7
        }
      ],
      "source": [
        "# select all member firstname and lastname\n",
        "members = db.table(sql_tables[8])\n",
        "member_name = members[[\"firstname\", \"lastname\"]]\n",
        "member_name"
      ]
    },
    {
      "cell_type": "markdown",
      "source": [
        "filtering data (where condition in sql)"
      ],
      "metadata": {
        "id": "HMa3aW5moc3R"
      },
      "id": "HMa3aW5moc3R"
    },
    {
      "cell_type": "code",
      "execution_count": 8,
      "id": "fe3db9f3",
      "metadata": {
        "colab": {
          "base_uri": "https://localhost:8080/",
          "height": 81
        },
        "id": "fe3db9f3",
        "outputId": "4735fea8-f8a3-48a6-9290-af39e09c85bd"
      },
      "outputs": [
        {
          "output_type": "execute_result",
          "data": {
            "text/plain": [
              "   member_id  major_id firstname  lastname\n",
              "0          5         2     Sacha  Harrison"
            ],
            "text/html": [
              "<div>\n",
              "<style scoped>\n",
              "    .dataframe tbody tr th:only-of-type {\n",
              "        vertical-align: middle;\n",
              "    }\n",
              "\n",
              "    .dataframe tbody tr th {\n",
              "        vertical-align: top;\n",
              "    }\n",
              "\n",
              "    .dataframe thead th {\n",
              "        text-align: right;\n",
              "    }\n",
              "</style>\n",
              "<table border=\"1\" class=\"dataframe\">\n",
              "  <thead>\n",
              "    <tr style=\"text-align: right;\">\n",
              "      <th></th>\n",
              "      <th>member_id</th>\n",
              "      <th>major_id</th>\n",
              "      <th>firstname</th>\n",
              "      <th>lastname</th>\n",
              "    </tr>\n",
              "  </thead>\n",
              "  <tbody>\n",
              "    <tr>\n",
              "      <th>0</th>\n",
              "      <td>5</td>\n",
              "      <td>2</td>\n",
              "      <td>Sacha</td>\n",
              "      <td>Harrison</td>\n",
              "    </tr>\n",
              "  </tbody>\n",
              "</table>\n",
              "</div>"
            ]
          },
          "metadata": {},
          "execution_count": 8
        }
      ],
      "source": [
        "# select member_id, major_id, firstname and lastname with member_id = 5\n",
        "member_info = members['member_id', 'major_id', 'firstname', 'lastname'].filter(members['member_id'] ==  5)\n",
        "member_info"
      ]
    },
    {
      "cell_type": "markdown",
      "source": [
        "ordering and limit"
      ],
      "metadata": {
        "id": "I50AI4BhoqEQ"
      },
      "id": "I50AI4BhoqEQ"
    },
    {
      "cell_type": "code",
      "source": [
        "# select the description, date, cost of 5 highest expenses\n",
        "expenses = db.table(sql_tables[3])\n",
        "highest_exp = expenses.sort_by(ibis.desc('cost')).limit(5)['description', 'date', 'cost']\n",
        "highest_exp"
      ],
      "metadata": {
        "colab": {
          "base_uri": "https://localhost:8080/",
          "height": 206
        },
        "id": "gBQ_Vhtnot4b",
        "outputId": "356def80-32d8-457c-ecb9-df99157f3545"
      },
      "id": "gBQ_Vhtnot4b",
      "execution_count": 9,
      "outputs": [
        {
          "output_type": "execute_result",
          "data": {
            "text/plain": [
              "      description        date    cost\n",
              "0        T_shirts  2019-11-19  150.00\n",
              "1           Pizza  2019-08-20  122.06\n",
              "2           Pizza  2019-10-22   92.82\n",
              "3         Posters  2019-10-10   67.81\n",
              "4  Water, Cookies  2019-10-08   20.20"
            ],
            "text/html": [
              "<div>\n",
              "<style scoped>\n",
              "    .dataframe tbody tr th:only-of-type {\n",
              "        vertical-align: middle;\n",
              "    }\n",
              "\n",
              "    .dataframe tbody tr th {\n",
              "        vertical-align: top;\n",
              "    }\n",
              "\n",
              "    .dataframe thead th {\n",
              "        text-align: right;\n",
              "    }\n",
              "</style>\n",
              "<table border=\"1\" class=\"dataframe\">\n",
              "  <thead>\n",
              "    <tr style=\"text-align: right;\">\n",
              "      <th></th>\n",
              "      <th>description</th>\n",
              "      <th>date</th>\n",
              "      <th>cost</th>\n",
              "    </tr>\n",
              "  </thead>\n",
              "  <tbody>\n",
              "    <tr>\n",
              "      <th>0</th>\n",
              "      <td>T_shirts</td>\n",
              "      <td>2019-11-19</td>\n",
              "      <td>150.00</td>\n",
              "    </tr>\n",
              "    <tr>\n",
              "      <th>1</th>\n",
              "      <td>Pizza</td>\n",
              "      <td>2019-08-20</td>\n",
              "      <td>122.06</td>\n",
              "    </tr>\n",
              "    <tr>\n",
              "      <th>2</th>\n",
              "      <td>Pizza</td>\n",
              "      <td>2019-10-22</td>\n",
              "      <td>92.82</td>\n",
              "    </tr>\n",
              "    <tr>\n",
              "      <th>3</th>\n",
              "      <td>Posters</td>\n",
              "      <td>2019-10-10</td>\n",
              "      <td>67.81</td>\n",
              "    </tr>\n",
              "    <tr>\n",
              "      <th>4</th>\n",
              "      <td>Water, Cookies</td>\n",
              "      <td>2019-10-08</td>\n",
              "      <td>20.20</td>\n",
              "    </tr>\n",
              "  </tbody>\n",
              "</table>\n",
              "</div>"
            ]
          },
          "metadata": {},
          "execution_count": 9
        }
      ]
    },
    {
      "cell_type": "markdown",
      "source": [
        "## 3. Joining and Aggregating with ibis\n",
        "\n",
        "expressions"
      ],
      "metadata": {
        "id": "lvjb3AUYseuN"
      },
      "id": "lvjb3AUYseuN"
    },
    {
      "cell_type": "code",
      "source": [
        "# replace each description of expenses with larger category \n",
        "expense_categoery = (expenses['description'].case()\n",
        "                                        .when('Pizza', 'food')\n",
        "                                        .when('Water, Cookies', 'food')\n",
        "                                        .when('coke', 'food')\n",
        "                                        .when('two bottles of coke', 'food')\n",
        "                                        .when('Postcard', 'appliances')\n",
        "                                        .when('Posters', 'appliances')\n",
        "                                        .when('T_shirts', 'clothes')\n",
        "                                        .else_('other')\n",
        "                                        .end()\n",
        "                                        .name('expense_categoery'))\n",
        "expense_categoery"
      ],
      "metadata": {
        "colab": {
          "base_uri": "https://localhost:8080/",
          "height": 457
        },
        "id": "sTDptV-Cw3kR",
        "outputId": "603b5244-0af2-410e-a1b7-c0bc64aebefd"
      },
      "id": "sTDptV-Cw3kR",
      "execution_count": 10,
      "outputs": [
        {
          "output_type": "execute_result",
          "data": {
            "text/plain": [
              "0          other\n",
              "1           food\n",
              "2           food\n",
              "3     appliances\n",
              "4           food\n",
              "5     appliances\n",
              "6        clothes\n",
              "7          other\n",
              "8     appliances\n",
              "9     appliances\n",
              "10          food\n",
              "11         other\n",
              "12          food\n",
              "Name: expense_categoery, dtype: object"
            ],
            "text/html": [
              "<div>\n",
              "<style scoped>\n",
              "    .dataframe tbody tr th:only-of-type {\n",
              "        vertical-align: middle;\n",
              "    }\n",
              "\n",
              "    .dataframe tbody tr th {\n",
              "        vertical-align: top;\n",
              "    }\n",
              "\n",
              "    .dataframe thead th {\n",
              "        text-align: right;\n",
              "    }\n",
              "</style>\n",
              "<table border=\"1\" class=\"dataframe\">\n",
              "  <thead>\n",
              "    <tr style=\"text-align: right;\">\n",
              "      <th></th>\n",
              "      <th>expense_categoery</th>\n",
              "    </tr>\n",
              "  </thead>\n",
              "  <tbody>\n",
              "    <tr>\n",
              "      <th>0</th>\n",
              "      <td>other</td>\n",
              "    </tr>\n",
              "    <tr>\n",
              "      <th>1</th>\n",
              "      <td>food</td>\n",
              "    </tr>\n",
              "    <tr>\n",
              "      <th>2</th>\n",
              "      <td>food</td>\n",
              "    </tr>\n",
              "    <tr>\n",
              "      <th>3</th>\n",
              "      <td>appliances</td>\n",
              "    </tr>\n",
              "    <tr>\n",
              "      <th>4</th>\n",
              "      <td>food</td>\n",
              "    </tr>\n",
              "    <tr>\n",
              "      <th>5</th>\n",
              "      <td>appliances</td>\n",
              "    </tr>\n",
              "    <tr>\n",
              "      <th>6</th>\n",
              "      <td>clothes</td>\n",
              "    </tr>\n",
              "    <tr>\n",
              "      <th>7</th>\n",
              "      <td>other</td>\n",
              "    </tr>\n",
              "    <tr>\n",
              "      <th>8</th>\n",
              "      <td>appliances</td>\n",
              "    </tr>\n",
              "    <tr>\n",
              "      <th>9</th>\n",
              "      <td>appliances</td>\n",
              "    </tr>\n",
              "    <tr>\n",
              "      <th>10</th>\n",
              "      <td>food</td>\n",
              "    </tr>\n",
              "    <tr>\n",
              "      <th>11</th>\n",
              "      <td>other</td>\n",
              "    </tr>\n",
              "    <tr>\n",
              "      <th>12</th>\n",
              "      <td>food</td>\n",
              "    </tr>\n",
              "  </tbody>\n",
              "</table>\n",
              "</div>"
            ]
          },
          "metadata": {},
          "execution_count": 10
        }
      ]
    },
    {
      "cell_type": "markdown",
      "source": [
        "group by and join"
      ],
      "metadata": {
        "id": "2ha0mvI_1XJz"
      },
      "id": "2ha0mvI_1XJz"
    },
    {
      "cell_type": "code",
      "source": [
        "# find the total budgets of each type of events\n",
        "events = db.table(sql_tables[2])\n",
        "has = db.table(sql_tables[5])\n",
        "\n",
        "event_has = events.inner_join(has, predicates=events[\"event_id\"] == has[\"event_id\"])\n",
        "event_has_budget = event_has.inner_join(expenses, predicates=expenses[\"budget_id\"] == event_has[\"budget_id\"])\n",
        "total_budgets = event_has_budget.group_by(\"type\").aggregate(event_has_budget[\"cost\"].sum())\n",
        "\n",
        "total_budgets"
      ],
      "metadata": {
        "colab": {
          "base_uri": "https://localhost:8080/",
          "height": 238
        },
        "id": "FY-2NaHFskFP",
        "outputId": "71155bb8-d044-4dfd-ccac-bb11ebdc9272"
      },
      "id": "FY-2NaHFskFP",
      "execution_count": 11,
      "outputs": [
        {
          "output_type": "execute_result",
          "data": {
            "text/plain": [
              "            type     sum\n",
              "0       Election  167.09\n",
              "1           Game  150.00\n",
              "2          Ganme   20.20\n",
              "3  Guest Speaker   70.20\n",
              "4        Meeting  265.88\n",
              "5         Social   24.98"
            ],
            "text/html": [
              "<div>\n",
              "<style scoped>\n",
              "    .dataframe tbody tr th:only-of-type {\n",
              "        vertical-align: middle;\n",
              "    }\n",
              "\n",
              "    .dataframe tbody tr th {\n",
              "        vertical-align: top;\n",
              "    }\n",
              "\n",
              "    .dataframe thead th {\n",
              "        text-align: right;\n",
              "    }\n",
              "</style>\n",
              "<table border=\"1\" class=\"dataframe\">\n",
              "  <thead>\n",
              "    <tr style=\"text-align: right;\">\n",
              "      <th></th>\n",
              "      <th>type</th>\n",
              "      <th>sum</th>\n",
              "    </tr>\n",
              "  </thead>\n",
              "  <tbody>\n",
              "    <tr>\n",
              "      <th>0</th>\n",
              "      <td>Election</td>\n",
              "      <td>167.09</td>\n",
              "    </tr>\n",
              "    <tr>\n",
              "      <th>1</th>\n",
              "      <td>Game</td>\n",
              "      <td>150.00</td>\n",
              "    </tr>\n",
              "    <tr>\n",
              "      <th>2</th>\n",
              "      <td>Ganme</td>\n",
              "      <td>20.20</td>\n",
              "    </tr>\n",
              "    <tr>\n",
              "      <th>3</th>\n",
              "      <td>Guest Speaker</td>\n",
              "      <td>70.20</td>\n",
              "    </tr>\n",
              "    <tr>\n",
              "      <th>4</th>\n",
              "      <td>Meeting</td>\n",
              "      <td>265.88</td>\n",
              "    </tr>\n",
              "    <tr>\n",
              "      <th>5</th>\n",
              "      <td>Social</td>\n",
              "      <td>24.98</td>\n",
              "    </tr>\n",
              "  </tbody>\n",
              "</table>\n",
              "</div>"
            ]
          },
          "metadata": {},
          "execution_count": 11
        }
      ]
    },
    {
      "cell_type": "code",
      "source": [
        "# count the number of members from each school\n",
        "majors = db.table(sql_tables[7])\n",
        "member_major = members.inner_join(majors, predicates=members[\"major_id\"] == majors[\"major_id\"])\n",
        "member_school = member_major[\"college\"].name(\"member_school\")\n",
        "member_school_count = member_major.group_by(\"college\").aggregate([member_school.count()])\n",
        "member_school_count"
      ],
      "metadata": {
        "colab": {
          "base_uri": "https://localhost:8080/",
          "height": 206
        },
        "id": "UbzJ3SXO8b70",
        "outputId": "f4d4b28b-80bd-4c05-b19b-c48e3c0c7718"
      },
      "id": "UbzJ3SXO8b70",
      "execution_count": 13,
      "outputs": [
        {
          "output_type": "execute_result",
          "data": {
            "text/plain": [
              "                                     college  count\n",
              "0      College of Education & Human Services      1\n",
              "1  College of Humanities and Social Sciences      6\n",
              "2                         College of Science      2\n",
              "3                                Engineering      1\n",
              "4                         School of Business      1"
            ],
            "text/html": [
              "<div>\n",
              "<style scoped>\n",
              "    .dataframe tbody tr th:only-of-type {\n",
              "        vertical-align: middle;\n",
              "    }\n",
              "\n",
              "    .dataframe tbody tr th {\n",
              "        vertical-align: top;\n",
              "    }\n",
              "\n",
              "    .dataframe thead th {\n",
              "        text-align: right;\n",
              "    }\n",
              "</style>\n",
              "<table border=\"1\" class=\"dataframe\">\n",
              "  <thead>\n",
              "    <tr style=\"text-align: right;\">\n",
              "      <th></th>\n",
              "      <th>college</th>\n",
              "      <th>count</th>\n",
              "    </tr>\n",
              "  </thead>\n",
              "  <tbody>\n",
              "    <tr>\n",
              "      <th>0</th>\n",
              "      <td>College of Education &amp; Human Services</td>\n",
              "      <td>1</td>\n",
              "    </tr>\n",
              "    <tr>\n",
              "      <th>1</th>\n",
              "      <td>College of Humanities and Social Sciences</td>\n",
              "      <td>6</td>\n",
              "    </tr>\n",
              "    <tr>\n",
              "      <th>2</th>\n",
              "      <td>College of Science</td>\n",
              "      <td>2</td>\n",
              "    </tr>\n",
              "    <tr>\n",
              "      <th>3</th>\n",
              "      <td>Engineering</td>\n",
              "      <td>1</td>\n",
              "    </tr>\n",
              "    <tr>\n",
              "      <th>4</th>\n",
              "      <td>School of Business</td>\n",
              "      <td>1</td>\n",
              "    </tr>\n",
              "  </tbody>\n",
              "</table>\n",
              "</div>"
            ]
          },
          "metadata": {},
          "execution_count": 13
        }
      ]
    },
    {
      "cell_type": "markdown",
      "source": [
        "## 4. Data Analysis with ibis\n",
        "\n",
        "frequency tables"
      ],
      "metadata": {
        "id": "t38RDD_o3HVv"
      },
      "id": "t38RDD_o3HVv"
    },
    {
      "cell_type": "code",
      "source": [
        "# compute the frequency table for the tshirt_size\n",
        "members.tshirt_size.value_counts() "
      ],
      "metadata": {
        "colab": {
          "base_uri": "https://localhost:8080/",
          "height": 175
        },
        "id": "HhNYFobh4agQ",
        "outputId": "03689bdb-fbc6-4097-a4b9-f72133d7c683"
      },
      "id": "HhNYFobh4agQ",
      "execution_count": 14,
      "outputs": [
        {
          "output_type": "execute_result",
          "data": {
            "text/plain": [
              "  tshirt_size  count\n",
              "0       Large      4\n",
              "1      Medium      4\n",
              "2       Small      1\n",
              "3     X-Large      2"
            ],
            "text/html": [
              "<div>\n",
              "<style scoped>\n",
              "    .dataframe tbody tr th:only-of-type {\n",
              "        vertical-align: middle;\n",
              "    }\n",
              "\n",
              "    .dataframe tbody tr th {\n",
              "        vertical-align: top;\n",
              "    }\n",
              "\n",
              "    .dataframe thead th {\n",
              "        text-align: right;\n",
              "    }\n",
              "</style>\n",
              "<table border=\"1\" class=\"dataframe\">\n",
              "  <thead>\n",
              "    <tr style=\"text-align: right;\">\n",
              "      <th></th>\n",
              "      <th>tshirt_size</th>\n",
              "      <th>count</th>\n",
              "    </tr>\n",
              "  </thead>\n",
              "  <tbody>\n",
              "    <tr>\n",
              "      <th>0</th>\n",
              "      <td>Large</td>\n",
              "      <td>4</td>\n",
              "    </tr>\n",
              "    <tr>\n",
              "      <th>1</th>\n",
              "      <td>Medium</td>\n",
              "      <td>4</td>\n",
              "    </tr>\n",
              "    <tr>\n",
              "      <th>2</th>\n",
              "      <td>Small</td>\n",
              "      <td>1</td>\n",
              "    </tr>\n",
              "    <tr>\n",
              "      <th>3</th>\n",
              "      <td>X-Large</td>\n",
              "      <td>2</td>\n",
              "    </tr>\n",
              "  </tbody>\n",
              "</table>\n",
              "</div>"
            ]
          },
          "metadata": {},
          "execution_count": 14
        }
      ]
    },
    {
      "cell_type": "markdown",
      "source": [
        "binning and histogram"
      ],
      "metadata": {
        "id": "UQR8W_hz4Z36"
      },
      "id": "UQR8W_hz4Z36"
    },
    {
      "cell_type": "code",
      "source": [
        "# count the number of low, median, high expenses for all events\n",
        "buckets = [0, 10, 40, 100]\n",
        "bucketed = (expenses.cost\n",
        "            .bucket(buckets, include_over=True)\n",
        "            .name('bucket'))\n",
        "\n",
        "bucket_counts = bucketed.value_counts()\n",
        "\n",
        "labeled_bucket = (bucket_counts.bucket\n",
        "                  .label(['0-10', '10-40', '40-100', '100+'])\n",
        "                  .name('cost_range'))\n",
        "\n",
        "expr = (bucket_counts[labeled_bucket, bucket_counts]\n",
        "        .sort_by('bucket'))\n",
        "expr"
      ],
      "metadata": {
        "colab": {
          "base_uri": "https://localhost:8080/",
          "height": 175
        },
        "id": "Rf-b0V393MDH",
        "outputId": "cc718336-00ca-4af5-e433-d077355ff51c"
      },
      "id": "Rf-b0V393MDH",
      "execution_count": 15,
      "outputs": [
        {
          "output_type": "execute_result",
          "data": {
            "text/plain": [
              "  cost_range bucket  count\n",
              "0       0-10      0      4\n",
              "1      10-40      1      5\n",
              "2     40-100      2      2\n",
              "3       100+      3      2"
            ],
            "text/html": [
              "<div>\n",
              "<style scoped>\n",
              "    .dataframe tbody tr th:only-of-type {\n",
              "        vertical-align: middle;\n",
              "    }\n",
              "\n",
              "    .dataframe tbody tr th {\n",
              "        vertical-align: top;\n",
              "    }\n",
              "\n",
              "    .dataframe thead th {\n",
              "        text-align: right;\n",
              "    }\n",
              "</style>\n",
              "<table border=\"1\" class=\"dataframe\">\n",
              "  <thead>\n",
              "    <tr style=\"text-align: right;\">\n",
              "      <th></th>\n",
              "      <th>cost_range</th>\n",
              "      <th>bucket</th>\n",
              "      <th>count</th>\n",
              "    </tr>\n",
              "  </thead>\n",
              "  <tbody>\n",
              "    <tr>\n",
              "      <th>0</th>\n",
              "      <td>0-10</td>\n",
              "      <td>0</td>\n",
              "      <td>4</td>\n",
              "    </tr>\n",
              "    <tr>\n",
              "      <th>1</th>\n",
              "      <td>10-40</td>\n",
              "      <td>1</td>\n",
              "      <td>5</td>\n",
              "    </tr>\n",
              "    <tr>\n",
              "      <th>2</th>\n",
              "      <td>40-100</td>\n",
              "      <td>2</td>\n",
              "      <td>2</td>\n",
              "    </tr>\n",
              "    <tr>\n",
              "      <th>3</th>\n",
              "      <td>100+</td>\n",
              "      <td>3</td>\n",
              "      <td>2</td>\n",
              "    </tr>\n",
              "  </tbody>\n",
              "</table>\n",
              "</div>"
            ]
          },
          "metadata": {},
          "execution_count": 15
        }
      ]
    }
  ],
  "metadata": {
    "kernelspec": {
      "display_name": "Python 3",
      "language": "python",
      "name": "python3"
    },
    "language_info": {
      "codemirror_mode": {
        "name": "ipython",
        "version": 3
      },
      "file_extension": ".py",
      "mimetype": "text/x-python",
      "name": "python",
      "nbconvert_exporter": "python",
      "pygments_lexer": "ipython3",
      "version": "3.8.3"
    },
    "colab": {
      "provenance": []
    }
  },
  "nbformat": 4,
  "nbformat_minor": 5
}
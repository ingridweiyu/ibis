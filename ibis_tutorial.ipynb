{
 "cells": [
  {
   "cell_type": "code",
   "execution_count": 1,
   "id": "d16b4032",
   "metadata": {},
   "outputs": [],
   "source": [
    "import ibis"
   ]
  },
  {
   "cell_type": "code",
   "execution_count": 2,
   "id": "0d42d76a",
   "metadata": {},
   "outputs": [],
   "source": [
    "ibis.options.interactive = True"
   ]
  },
  {
   "cell_type": "code",
   "execution_count": 5,
   "id": "56f35187",
   "metadata": {},
   "outputs": [],
   "source": [
    "connection = ibis.sqlite.connect('club/club.db')"
   ]
  },
  {
   "cell_type": "code",
   "execution_count": 6,
   "id": "ddb820e2",
   "metadata": {},
   "outputs": [
    {
     "data": {
      "text/plain": [
       "['attends',\n",
       " 'budgets',\n",
       " 'events',\n",
       " 'expenses',\n",
       " 'fees',\n",
       " 'has',\n",
       " 'incurs',\n",
       " 'majors',\n",
       " 'members',\n",
       " 'pays',\n",
       " 'supports',\n",
       " 'zipcodes']"
      ]
     },
     "execution_count": 6,
     "metadata": {},
     "output_type": "execute_result"
    }
   ],
   "source": [
    "connection.list_tables()"
   ]
  },
  {
   "cell_type": "code",
   "execution_count": null,
   "id": "9dc25037",
   "metadata": {},
   "outputs": [],
   "source": []
  },
  {
   "cell_type": "code",
   "execution_count": null,
   "id": "1226c2db",
   "metadata": {},
   "outputs": [],
   "source": []
  },
  {
   "cell_type": "code",
   "execution_count": null,
   "id": "1aa6ff02",
   "metadata": {},
   "outputs": [],
   "source": []
  },
  {
   "cell_type": "code",
   "execution_count": null,
   "id": "6b5ee921",
   "metadata": {},
   "outputs": [],
   "source": []
  }
 ],
 "metadata": {
  "kernelspec": {
   "display_name": "Python 3 (ipykernel)",
   "language": "python",
   "name": "python3"
  },
  "language_info": {
   "codemirror_mode": {
    "name": "ipython",
    "version": 3
   },
   "file_extension": ".py",
   "mimetype": "text/x-python",
   "name": "python",
   "nbconvert_exporter": "python",
   "pygments_lexer": "ipython3",
   "version": "3.9.13"
  }
 },
 "nbformat": 4,
 "nbformat_minor": 5
}
